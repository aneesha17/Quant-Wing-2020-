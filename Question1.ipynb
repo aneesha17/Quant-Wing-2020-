{
  "nbformat": 4,
  "nbformat_minor": 0,
  "metadata": {
    "colab": {
      "name": "Untitled14.ipynb",
      "provenance": [],
      "collapsed_sections": []
    },
    "kernelspec": {
      "name": "python3",
      "display_name": "Python 3"
    }
  },
  "cells": [
    {
      "cell_type": "code",
      "metadata": {
        "id": "HeSY8rCWnvH8",
        "colab_type": "code",
        "colab": {}
      },
      "source": [
        "import numpy as np\n",
        "import math"
      ],
      "execution_count": 1,
      "outputs": []
    },
    {
      "cell_type": "code",
      "metadata": {
        "id": "AZz6l-YQV3G0",
        "colab_type": "code",
        "colab": {}
      },
      "source": [
        "def price(S0,r,K,t,N,vol):\n",
        "  S=np.zeros((N+1,N+1))\n",
        "  V=np.zeros((N+1,N+1))\n",
        "  dt=t/N\n",
        "  dis=np.exp(-r*dt)\n",
        "  u=0.5*(dis+np.exp((-r+vol*vol)*dt))+np.sqrt(math.pow(0.5*(dis+np.exp((-r+vol*vol)*dt)),2)-1)\n",
        "  d=1/u\n",
        "  p=(np.exp(r*dt)-d)/(u-d)\n",
        "  S[0,0]=S0\n",
        "  i=1\n",
        "  for i in range(1,N+1):\n",
        "    for j in range(1,i+1):\n",
        "      S[j,i]=u*S[j-1,i-1]\n",
        "      S[0,i]=d*S[0,i-1]\n",
        "  for j in range(N+1): \n",
        "    V[j,N] =payoff(S[j,N],K)\n",
        "  for i in range(N-1,1,-1):\n",
        "    for j in range(N):      \n",
        "      V[j,i-1]=max((p*V[j+1,i]+(1-p)*V[j,i])*dis,payoff(S[j,i-1],K))\n",
        "  USP=V[0,0]\n",
        "  return USP"
      ],
      "execution_count": 19,
      "outputs": []
    },
    {
      "cell_type": "code",
      "metadata": {
        "id": "Sj2E-ChTuPh5",
        "colab_type": "code",
        "colab": {}
      },
      "source": [
        "def payoff(s,k):\n",
        "    Payoff = 0\n",
        "    if S > K :\n",
        "      Payoff = S - K\n",
        "    return Payoff"
      ],
      "execution_count": 20,
      "outputs": []
    }
  ]
}